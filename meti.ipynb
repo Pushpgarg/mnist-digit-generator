{
  "nbformat": 4,
  "nbformat_minor": 0,
  "metadata": {
    "colab": {
      "provenance": [],
      "gpuType": "T4"
    },
    "kernelspec": {
      "name": "python3",
      "display_name": "Python 3"
    },
    "language_info": {
      "name": "python"
    },
    "accelerator": "GPU"
  },
  "cells": [
    {
      "cell_type": "code",
      "execution_count": 1,
      "metadata": {
        "colab": {
          "base_uri": "https://localhost:8080/"
        },
        "id": "N9uDHXVM-dBP",
        "outputId": "b0358e27-d8c9-40cb-b064-508821f8385d"
      },
      "outputs": [
        {
          "output_type": "stream",
          "name": "stdout",
          "text": [
            "Device: cuda\n"
          ]
        }
      ],
      "source": [
        "import torch\n",
        "import torch.nn as nn\n",
        "import torch.optim as optim\n",
        "from torchvision import datasets, transforms\n",
        "from torch.utils.data import DataLoader\n",
        "import matplotlib.pyplot as plt\n",
        "\n",
        "# Check GPU\n",
        "device = torch.device(\"cuda\" if torch.cuda.is_available() else \"cpu\")\n",
        "print(\"Device:\", device)\n"
      ]
    },
    {
      "cell_type": "code",
      "source": [
        "transform = transforms.Compose([\n",
        "    transforms.ToTensor()\n",
        "])\n",
        "\n",
        "train_dataset = datasets.MNIST(root='./data', train=True, download=True, transform=transform)\n",
        "train_loader = DataLoader(train_dataset, batch_size=128, shuffle=True)\n",
        "\n",
        "print(\"Number of training samples:\", len(train_dataset))\n"
      ],
      "metadata": {
        "colab": {
          "base_uri": "https://localhost:8080/"
        },
        "id": "axXfcjkn-k6w",
        "outputId": "19746ffc-6b6c-437a-ab63-774465849082"
      },
      "execution_count": 2,
      "outputs": [
        {
          "output_type": "stream",
          "name": "stderr",
          "text": [
            "100%|██████████| 9.91M/9.91M [00:00<00:00, 18.1MB/s]\n",
            "100%|██████████| 28.9k/28.9k [00:00<00:00, 480kB/s]\n",
            "100%|██████████| 1.65M/1.65M [00:00<00:00, 4.49MB/s]\n",
            "100%|██████████| 4.54k/4.54k [00:00<00:00, 9.47MB/s]"
          ]
        },
        {
          "output_type": "stream",
          "name": "stdout",
          "text": [
            "Number of training samples: 60000\n"
          ]
        },
        {
          "output_type": "stream",
          "name": "stderr",
          "text": [
            "\n"
          ]
        }
      ]
    },
    {
      "cell_type": "code",
      "source": [
        "class VAE(nn.Module):\n",
        "    def __init__(self):\n",
        "        super(VAE, self).__init__()\n",
        "        # Encoder\n",
        "        self.fc1 = nn.Linear(28*28, 256)\n",
        "        self.fc21 = nn.Linear(256, 20)\n",
        "        self.fc22 = nn.Linear(256, 20)\n",
        "\n",
        "        # Decoder\n",
        "        self.fc3 = nn.Linear(20, 256)\n",
        "        self.fc4 = nn.Linear(256, 28*28)\n",
        "\n",
        "    def encode(self, x):\n",
        "        h1 = torch.relu(self.fc1(x))\n",
        "        return self.fc21(h1), self.fc22(h1)\n",
        "\n",
        "    def reparameterize(self, mu, logvar):\n",
        "        std = torch.exp(0.5*logvar)\n",
        "        eps = torch.randn_like(std)\n",
        "        return mu + eps * std\n",
        "\n",
        "    def decode(self, z):\n",
        "        h3 = torch.relu(self.fc3(z))\n",
        "        return torch.sigmoid(self.fc4(h3))\n",
        "\n",
        "    def forward(self, x):\n",
        "        mu, logvar = self.encode(x.view(-1, 28*28))\n",
        "        z = self.reparameterize(mu, logvar)\n",
        "        return self.decode(z), mu, logvar\n",
        "\n",
        "model = VAE().to(device)\n"
      ],
      "metadata": {
        "id": "-_whSIbM-r9P"
      },
      "execution_count": 3,
      "outputs": []
    },
    {
      "cell_type": "code",
      "source": [
        "def loss_function(recon_x, x, mu, logvar):\n",
        "    BCE = nn.functional.binary_cross_entropy(recon_x, x.view(-1, 28*28), reduction='sum')\n",
        "    KLD = -0.5 * torch.sum(1 + logvar - mu.pow(2) - logvar.exp())\n",
        "    return BCE + KLD\n",
        "\n",
        "optimizer = optim.Adam(model.parameters(), lr=1e-3)\n"
      ],
      "metadata": {
        "id": "OOgKXJKs-ybP"
      },
      "execution_count": 4,
      "outputs": []
    },
    {
      "cell_type": "code",
      "source": [
        "epochs = 30  # Keep this 5 to finish fast in Colab — increase if you want later\n",
        "\n",
        "model.train()\n",
        "for epoch in range(1, epochs + 1):\n",
        "    train_loss = 0\n",
        "    for batch_idx, (data, _) in enumerate(train_loader):\n",
        "        data = data.to(device)\n",
        "        optimizer.zero_grad()\n",
        "        recon_batch, mu, logvar = model(data)\n",
        "        loss = loss_function(recon_batch, data, mu, logvar)\n",
        "        loss.backward()\n",
        "        train_loss += loss.item()\n",
        "        optimizer.step()\n",
        "\n",
        "    print(f'Epoch {epoch}, Average Loss: {train_loss / len(train_loader.dataset):.4f}')\n"
      ],
      "metadata": {
        "colab": {
          "base_uri": "https://localhost:8080/"
        },
        "id": "rkq2TwSE-2QS",
        "outputId": "8007e94b-b038-4851-f995-b0c0c06fbdce"
      },
      "execution_count": 7,
      "outputs": [
        {
          "output_type": "stream",
          "name": "stdout",
          "text": [
            "Epoch 1, Average Loss: 110.9722\n",
            "Epoch 2, Average Loss: 109.9426\n",
            "Epoch 3, Average Loss: 109.1547\n",
            "Epoch 4, Average Loss: 108.5767\n",
            "Epoch 5, Average Loss: 108.0366\n",
            "Epoch 6, Average Loss: 107.6452\n",
            "Epoch 7, Average Loss: 107.2408\n",
            "Epoch 8, Average Loss: 106.9565\n",
            "Epoch 9, Average Loss: 106.6411\n",
            "Epoch 10, Average Loss: 106.4674\n",
            "Epoch 11, Average Loss: 106.2066\n",
            "Epoch 12, Average Loss: 105.9931\n",
            "Epoch 13, Average Loss: 105.8421\n",
            "Epoch 14, Average Loss: 105.6661\n",
            "Epoch 15, Average Loss: 105.5183\n",
            "Epoch 16, Average Loss: 105.3375\n",
            "Epoch 17, Average Loss: 105.2488\n",
            "Epoch 18, Average Loss: 105.1606\n",
            "Epoch 19, Average Loss: 105.0234\n",
            "Epoch 20, Average Loss: 104.8768\n",
            "Epoch 21, Average Loss: 104.8175\n",
            "Epoch 22, Average Loss: 104.7263\n",
            "Epoch 23, Average Loss: 104.6008\n",
            "Epoch 24, Average Loss: 104.5670\n",
            "Epoch 25, Average Loss: 104.4638\n",
            "Epoch 26, Average Loss: 104.3824\n",
            "Epoch 27, Average Loss: 104.3012\n",
            "Epoch 28, Average Loss: 104.2340\n",
            "Epoch 29, Average Loss: 104.1497\n",
            "Epoch 30, Average Loss: 104.0598\n"
          ]
        }
      ]
    },
    {
      "cell_type": "code",
      "source": [
        "torch.manual_seed(42)"
      ],
      "metadata": {
        "colab": {
          "base_uri": "https://localhost:8080/"
        },
        "id": "jm6l6sMk__xV",
        "outputId": "2b8e7aff-691d-4fc3-a345-3d1c5458ed2d"
      },
      "execution_count": 8,
      "outputs": [
        {
          "output_type": "execute_result",
          "data": {
            "text/plain": [
              "<torch._C.Generator at 0x78a99a79e0d0>"
            ]
          },
          "metadata": {},
          "execution_count": 8
        }
      ]
    },
    {
      "cell_type": "code",
      "source": [
        "model.eval()\n",
        "with torch.no_grad():\n",
        "    z = torch.randn(5, 20).to(device)  # 5 random latent vectors\n",
        "    sample = model.decode(z).cpu()\n",
        "    sample = sample.view(5, 28, 28)\n",
        "\n",
        "    # Plotting the 5 generated digits\n",
        "    plt.figure(figsize=(10,2))\n",
        "    for i in range(5):\n",
        "        plt.subplot(1,5,i+1)\n",
        "        plt.imshow(sample[i], cmap='gray')\n",
        "        plt.axis('off')\n",
        "    plt.show()\n"
      ],
      "metadata": {
        "colab": {
          "base_uri": "https://localhost:8080/",
          "height": 170
        },
        "id": "60eies3D-844",
        "outputId": "46d924c4-8fe1-4db4-a5f5-b0dcdc782eec"
      },
      "execution_count": 9,
      "outputs": [
        {
          "output_type": "display_data",
          "data": {
            "text/plain": [
              "<Figure size 1000x200 with 5 Axes>"
            ],
            "image/png": "[encoded data removed]"
          },
          "metadata": {}
        }
      ]
    },
    {
      "cell_type": "code",
      "source": [
        "def generate_digit_samples(digit, num_samples=5):\n",
        "    model.eval()\n",
        "    with torch.no_grad():\n",
        "        z = torch.randn(num_samples, 20).to(device)  # 20 is latent size\n",
        "        samples = model.decode(z).cpu()\n",
        "        samples = samples.view(num_samples, 28, 28)\n",
        "\n",
        "        plt.figure(figsize=(10,2))\n",
        "        for i in range(num_samples):\n",
        "            plt.subplot(1, num_samples, i+1)\n",
        "            plt.imshow(samples[i], cmap='gray')\n",
        "            plt.axis('off')\n",
        "        plt.show()\n",
        "\n",
        "# Example: generate 5 samples of digit '1'\n",
        "generate_digit_samples(1)\n"
      ],
      "metadata": {
        "colab": {
          "base_uri": "https://localhost:8080/",
          "height": 170
        },
        "id": "vprpDqu2_aW3",
        "outputId": "e6dc9897-8338-4acd-d203-f75659b8a067"
      },
      "execution_count": 12,
      "outputs": [
        {
          "output_type": "display_data",
          "data": {
            "text/plain": [
              "<Figure size 1000x200 with 5 Axes>"
            ],
            "image/png": "[encoded data removed]"
          },
          "metadata": {}
        }
      ]
    },
    {
      "cell_type": "code",
      "source": [
        "torch.save(model.state_dict(), 'vae_mnist.pth')\n",
        "print(\"Model Saved Successfully 🎉\")\n"
      ],
      "metadata": {
        "colab": {
          "base_uri": "https://localhost:8080/"
        },
        "id": "cOykfB5mA5Z0",
        "outputId": "f1a3906d-8e5a-48c3-86e7-695372d16719"
      },
      "execution_count": 13,
      "outputs": [
        {
          "output_type": "stream",
          "name": "stdout",
          "text": [
            "Model Saved Successfully 🎉\n"
          ]
        }
      ]
    },
    {
      "cell_type": "code",
      "source": [],
      "metadata": {
        "id": "V8Q_CbnCBZJj"
      },
      "execution_count": null,
      "outputs": []
    }
  ]
}